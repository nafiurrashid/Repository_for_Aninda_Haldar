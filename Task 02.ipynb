{
 "cells": [
  {
   "cell_type": "code",
   "execution_count": 29,
   "metadata": {},
   "outputs": [
    {
     "data": {
      "text/plain": [
       "'\\nTask 2 : Write a function which will take a string as an input \\nand remove everythings from that string without alphanumeric character .\\n'"
      ]
     },
     "execution_count": 29,
     "metadata": {},
     "output_type": "execute_result"
    }
   ],
   "source": [
    "\"\"\"\n",
    "Task 2 : Write a function which will take a string as an input \n",
    "and remove everythings from that string without alphanumeric character .\n",
    "\"\"\""
   ]
  },
  {
   "cell_type": "code",
   "execution_count": 30,
   "metadata": {},
   "outputs": [
    {
     "name": "stdout",
     "output_type": "stream",
     "text": [
      "ilovemuriilovemurimuriislifewithoutmurimnothingmureiisvalobasha\n"
     ]
    }
   ],
   "source": [
    "#NR\n",
    "s=\"i love muri .ilovemuri. muriislife .without mur i'm nothing . murei is valobasha\"\n",
    "def task02(s):\n",
    "    alphanumeric_filter = filter(str.isalnum, s)\n",
    "    #Get iterable of alphanumeric characters in `a_string`\n",
    "\n",
    "\n",
    "    alphanumeric_string = \"\".join(alphanumeric_filter)\n",
    "    #Combine characters of `alphanumeric_filter` in a string\n",
    "\n",
    "\n",
    "    return alphanumeric_string\n",
    "\n",
    "print(alphanumeric_string)    "
   ]
  },
  {
   "cell_type": "code",
   "execution_count": null,
   "metadata": {},
   "outputs": [],
   "source": []
  }
 ],
 "metadata": {
  "kernelspec": {
   "display_name": "Python 3",
   "language": "python",
   "name": "python3"
  },
  "language_info": {
   "codemirror_mode": {
    "name": "ipython",
    "version": 3
   },
   "file_extension": ".py",
   "mimetype": "text/x-python",
   "name": "python",
   "nbconvert_exporter": "python",
   "pygments_lexer": "ipython3",
   "version": "3.7.4"
  }
 },
 "nbformat": 4,
 "nbformat_minor": 2
}
