{
 "cells": [
  {
   "cell_type": "code",
   "execution_count": 17,
   "metadata": {},
   "outputs": [
    {
     "data": {
      "text/plain": [
       "'\\nTask 3 : Write a function which will take 2 string(\"string_1\" & \"string_2\") as  input .\\n    The function will return the number of \"string_2\"  occur  in  \"string_1\" . Do not use any library for this task .\\n\\nExample :\\n string_1  =  \"i love muri .ilovemuri. muriislife .without mur i\\'m nothing . murei is valobasha\"\\n\\n string_2 = \"muri\"\\n\\n'"
      ]
     },
     "execution_count": 17,
     "metadata": {},
     "output_type": "execute_result"
    }
   ],
   "source": [
    "\"\"\"\n",
    "Task 3 : Write a function which will take 2 string(\"string_1\" & \"string_2\") as  input .\n",
    "    The function will return the number of \"string_2\"  occur  in  \"string_1\" . Do not use any library for this task .\n",
    "\n",
    "Example :\n",
    " string_1  =  \"i love muri .ilovemuri. muriislife .without mur i'm nothing . murei is valobasha\"\n",
    "\n",
    " string_2 = \"muri\"\n",
    "\n",
    "\"\"\""
   ]
  },
  {
   "cell_type": "code",
   "execution_count": 25,
   "metadata": {},
   "outputs": [
    {
     "name": "stdout",
     "output_type": "stream",
     "text": [
      "Here string_2 occur in string_1 3 times\n"
     ]
    }
   ],
   "source": [
    "#NR\n",
    "string_1=\"i love muri .ilovemuri. muriislife .without mur i'm nothing . murei is valobasha\"\n",
    "string_2=\"muri\"\n",
    "def task(s1,s2):   \n",
    "    count=0    #count is set to be zero\n",
    "    l2=len(s2)    \n",
    "    for i in range(len(s1)):\n",
    "        if s1[i]==s2[0]:   \n",
    "            end=i+l2\n",
    "            sub1=s1[i:end]\n",
    "            if s2==sub1:  #if string_1==string_2\n",
    "                count+=1  #1 is added to the count              \n",
    "    return count\n",
    "\n",
    "print('Here string_2 occur in string_1', count, 'times')"
   ]
  },
  {
   "cell_type": "code",
   "execution_count": null,
   "metadata": {},
   "outputs": [],
   "source": []
  }
 ],
 "metadata": {
  "kernelspec": {
   "display_name": "Python 3",
   "language": "python",
   "name": "python3"
  },
  "language_info": {
   "codemirror_mode": {
    "name": "ipython",
    "version": 3
   },
   "file_extension": ".py",
   "mimetype": "text/x-python",
   "name": "python",
   "nbconvert_exporter": "python",
   "pygments_lexer": "ipython3",
   "version": "3.7.4"
  }
 },
 "nbformat": 4,
 "nbformat_minor": 2
}
